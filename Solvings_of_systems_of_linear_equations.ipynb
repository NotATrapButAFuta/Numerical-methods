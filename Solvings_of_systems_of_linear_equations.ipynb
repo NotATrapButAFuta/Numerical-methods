{
 "cells": [
  {
   "cell_type": "code",
   "execution_count": 16,
   "metadata": {},
   "outputs": [
    {
     "ename": "NameError",
     "evalue": "name 'm' is not defined",
     "output_type": "error",
     "traceback": [
      "\u001b[1;31m---------------------------------------------------------------------------\u001b[0m",
      "\u001b[1;31mNameError\u001b[0m                                 Traceback (most recent call last)",
      "\u001b[1;32m<ipython-input-16-71320749fe0f>\u001b[0m in \u001b[0;36m<module>\u001b[1;34m\u001b[0m\n\u001b[0;32m     35\u001b[0m     \u001b[1;32mreturn\u001b[0m \u001b[0mnp\u001b[0m\u001b[1;33m.\u001b[0m\u001b[0many\u001b[0m\u001b[1;33m(\u001b[0m\u001b[0mnp\u001b[0m\u001b[1;33m.\u001b[0m\u001b[0mdiag\u001b[0m\u001b[1;33m(\u001b[0m\u001b[0mm\u001b[0m\u001b[1;33m)\u001b[0m \u001b[1;33m==\u001b[0m \u001b[1;36m0\u001b[0m\u001b[1;33m)\u001b[0m\u001b[1;33m\u001b[0m\u001b[1;33m\u001b[0m\u001b[0m\n\u001b[0;32m     36\u001b[0m \u001b[1;33m\u001b[0m\u001b[0m\n\u001b[1;32m---> 37\u001b[1;33m \u001b[0msolve_gauss\u001b[0m\u001b[1;33m(\u001b[0m\u001b[0mm\u001b[0m\u001b[1;33m)\u001b[0m\u001b[1;33m\u001b[0m\u001b[1;33m\u001b[0m\u001b[0m\n\u001b[0m",
      "\u001b[1;31mNameError\u001b[0m: name 'm' is not defined"
     ]
    }
   ],
   "source": [
    "import numpy as np\n",
    "\n",
    "#Gauss\n",
    "def bubble_max_row(m, k):\n",
    "    ind = k + np.argmax(np.abs(m[k:, k]))\n",
    "    if ind != k:\n",
    "        m[k, :], m[ind, :] = np.copy(m[ind, :]), np.copy(m[k, :])\n",
    "\n",
    "\n",
    "def solve_gauss(m):\n",
    "    n = m.shape[0]\n",
    "    for k in range(n - 1):\n",
    "        bubble_max_row(m, k)\n",
    "        for i in range(k + 1, n):\n",
    "            frac = m[i, k] / m[k, k]\n",
    "            m[i, :] -= m[k, :] * frac\n",
    "    if is_singular(m):\n",
    "        print('The system has infinite number of answers...')\n",
    "        return\n",
    "    x = np.matrix([0.0 for i in range(n)]).T\n",
    "    for k in range(n - 1, -1, -1):\n",
    "        x[k, 0] = (m[k, -1] - m[k, k:n] * x[k:n, 0]) / m[k, k]\n",
    "    display_results(x)\n",
    "\n",
    "\n",
    "def is_singular(m):\n",
    "    return np.any(np.diag(m) == 0)\n",
    "\n",
    "#solve_gauss(m)"
   ]
  },
  {
   "cell_type": "code",
   "execution_count": null,
   "metadata": {},
   "outputs": [],
   "source": [
    "#Cholesky\n",
    "def cholesky(A):\n",
    "    L = np.zeros(A.shape)\n",
    "    for i in range(A.shape[0]):\n",
    "        for j in range(i + 1):\n",
    "            if i != j:\n",
    "                L[i,j] = 1 / L[j,j] * (A[i,j] - np.dot(L[i], L[j]))\n",
    "            else:\n",
    "                L[i,i] = np.sqrt(A[i,i] - np.dot(L[i], L[i]))\n",
    "    return L\n",
    "#Another LU decomposition\n",
    "def LU(A):\n",
    "    m = np.zeros(a.shape)\n",
    "    m = A.copy()\n",
    "    n = m.shape[0]\n",
    "    for i in range(n - 1):\n",
    "        for j in range(i + 1, n):\n",
    "            m[j, i+1:] -= m[i, i+1:] * m[j, i] / m[i, i]\n",
    "        m[i+1:, i] = m[i+1:, i] / m[i, i]\n",
    "    L = np.tril(m)\n",
    "    np.fill_diagonal(L, 1)\n",
    "    return L, np.triu(m)"
   ]
  },
  {
   "cell_type": "code",
   "execution_count": 15,
   "metadata": {},
   "outputs": [
    {
     "name": "stdout",
     "output_type": "stream",
     "text": [
      "q:\n",
      " [[-0.857143  0.394286  0.331429]\n",
      " [-0.428571 -0.902857 -0.034286]\n",
      " [ 0.285714 -0.171429  0.942857]]\n",
      "r:\n",
      " [[ -14.  -21.   14.]\n",
      " [   0. -175.   70.]\n",
      " [   0.   -0.  -35.]]\n"
     ]
    }
   ],
   "source": [
    "from math import sqrt\n",
    "from pprint import pprint\n",
    "#QR-decomposition\n",
    "import numpy as np\n",
    " \n",
    "def qr(A):\n",
    "    m, n = A.shape\n",
    "    Q = np.eye(m)\n",
    "    for i in range(n - (m == n)):\n",
    "        H = np.eye(m)\n",
    "        H[i:, i:] = make_householder(A[i:, i])\n",
    "        Q = np.dot(Q, H)\n",
    "        A = np.dot(H, A)\n",
    "    return Q, A\n",
    " \n",
    "def make_householder(a):\n",
    "    v = a / (a[0] + np.copysign(np.linalg.norm(a), a[0]))\n",
    "    v[0] = 1\n",
    "    H = np.eye(a.shape[0])\n",
    "    H -= (2 / np.dot(v, v)) * np.dot(v[:, None], v[None, :])\n",
    "    return H\n",
    "\n",
    "a = np.array(((\n",
    "    (12, -51,   4),\n",
    "    ( 6, 167, -68),\n",
    "    (-4,  24, -41),\n",
    ")))\n",
    " \n",
    "q, r = qr(a)\n",
    "print('q:\\n', q.round(6))\n",
    "print('r:\\n', r.round(6))"
   ]
  },
  {
   "cell_type": "code",
   "execution_count": null,
   "metadata": {},
   "outputs": [],
   "source": [
    "x = np.linalg.solve(A, b) #Gauss method\n",
    "x = np.linalg.solve(np.linalg.cholesky(A).T, np.linalg.solve(np.linalg.cholesky(A), b)) #Cholesky method\n",
    "Q, R = np.linalg.qr(A) #Compute the qr factorization of a matrix."
   ]
  }
 ],
 "metadata": {
  "kernelspec": {
   "display_name": "Python 3",
   "language": "python",
   "name": "python3"
  },
  "language_info": {
   "codemirror_mode": {
    "name": "ipython",
    "version": 3
   },
   "file_extension": ".py",
   "mimetype": "text/x-python",
   "name": "python",
   "nbconvert_exporter": "python",
   "pygments_lexer": "ipython3",
   "version": "3.7.4"
  }
 },
 "nbformat": 4,
 "nbformat_minor": 2
}
