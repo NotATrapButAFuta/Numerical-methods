{
 "cells": [
  {
   "cell_type": "code",
   "execution_count": 6,
   "metadata": {},
   "outputs": [],
   "source": [
    "def roots_localisation(func, a0 = -10., b0 = 10., max_number_of_roots = 10, step = 1e-3):\n",
    "    loc_roots=[]\n",
    "    i = a0\n",
    "    while i <= b0 and loc_roots.size() <= max_number_of_roots:\n",
    "        if func(i)*func(i+step) > 0:\n",
    "            i += step\n",
    "            continue\n",
    "        else:\n",
    "            loc_roots.append([i, i + step])\n",
    "            i += step\n",
    "            continue"
   ]
  },
  {
   "cell_type": "code",
   "execution_count": 2,
   "metadata": {},
   "outputs": [],
   "source": [
    "def bisec(func, a, b, acc):\n",
    "    an = a\n",
    "    bn = b\n",
    "    k = 0\n",
    "    while(bn - an)/2 > acc:\n",
    "        xn = (an + bn)/2\n",
    "        if func(an)*func(xn)<=0:\n",
    "            bn = xn\n",
    "        else: \n",
    "            an = xn\n",
    "        k += 1\n",
    "    return (an+bn)/2, k"
   ]
  },
  {
   "cell_type": "code",
   "execution_count": 3,
   "metadata": {},
   "outputs": [],
   "source": [
    "def newton(x0, func, dfunc, acc):\n",
    "    k = 0\n",
    "    while True:\n",
    "        x1 = x0 - func(x0)/dfunc(x0)\n",
    "        k += 1\n",
    "        if abs(x1 - x0) < acc:\n",
    "            return x1, k\n",
    "        x0 = x1"
   ]
  },
  {
   "cell_type": "code",
   "execution_count": 4,
   "metadata": {},
   "outputs": [],
   "source": [
    "def simple_iteration(x0, func, acc):\n",
    "    k = 0\n",
    "    while True:\n",
    "        x1 = x0 - func(x0)\n",
    "        if abs(x1 - x0)<acc:\n",
    "            return x1, k\n",
    "        x0 = x1"
   ]
  },
  {
   "cell_type": "code",
   "execution_count": 5,
   "metadata": {},
   "outputs": [],
   "source": [
    "def secant_method(f, x0, eps: float=1e-7, kmax: int=1e3) -> float:\n",
    "    x, x_prev, i = x0, x0 + 2 * eps, 0\n",
    "    while abs(x - x_prev) >= eps and i < kmax:\n",
    "        x, x_prev, i = x - f(x) / (f(x) - f(x_prev)) * (x - x_prev), x, i + 1\n",
    "    return x, i"
   ]
  }
 ],
 "metadata": {
  "kernelspec": {
   "display_name": "Python 3",
   "language": "python",
   "name": "python3"
  },
  "language_info": {
   "codemirror_mode": {
    "name": "ipython",
    "version": 3
   },
   "file_extension": ".py",
   "mimetype": "text/x-python",
   "name": "python",
   "nbconvert_exporter": "python",
   "pygments_lexer": "ipython3",
   "version": "3.7.4"
  }
 },
 "nbformat": 4,
 "nbformat_minor": 2
}
