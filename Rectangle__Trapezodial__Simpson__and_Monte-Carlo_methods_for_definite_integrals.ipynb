{
 "cells": [
  {
   "cell_type": "code",
   "execution_count": null,
   "metadata": {},
   "outputs": [],
   "source": [
    "import math\n",
    "#exp(-x^2)\n",
    "def func(x):\n",
    "    return math.exp(-x**2)\n",
    "\n",
    "#метод прямоугольников\n",
    "d=0.001\n",
    "Int=0.\n",
    "i=0.\n",
    "while i<=1:\n",
    "    Int+=func(i)*d\n",
    "    i+=d\n",
    "print(Int,\"rectangle method\")\n",
    "\n",
    "#метод трапеций\n",
    "Int=0.\n",
    "i=0.\n",
    "while i<=1:\n",
    "    Int+=d*(func(i)+func(i+d))/2\n",
    "    i+=d\n",
    "print(Int,\"trapezoidal method\")\n",
    "\n",
    "#метод Симпсона\n",
    "Int=0.\n",
    "i=0.\n",
    "while i<=1:\n",
    "    Int+=d*(func(i)+4*func((i+d)/2)+func(i+d))/6\n",
    "    i+=d\n",
    "print(Int,\"Simpson method\")\n",
    "\n",
    "#метод Монте-Карло\n",
    "Int=0.\n",
    "i=0.\n",
    "E=0.\n",
    "while i<=1:\n",
    "    E+=func(i)\n",
    "    i+=d\n",
    "Int=E*d\n",
    "print(Int,\"Monte-Carlo method\")"
   ]
  }
 ],
 "metadata": {
  "kernelspec": {
   "display_name": "Python 3",
   "language": "python",
   "name": "python3"
  },
  "language_info": {
   "codemirror_mode": {
    "name": "ipython",
    "version": 3
   },
   "file_extension": ".py",
   "mimetype": "text/x-python",
   "name": "python",
   "nbconvert_exporter": "python",
   "pygments_lexer": "ipython3",
   "version": "3.7.4"
  }
 },
 "nbformat": 4,
 "nbformat_minor": 2
}
