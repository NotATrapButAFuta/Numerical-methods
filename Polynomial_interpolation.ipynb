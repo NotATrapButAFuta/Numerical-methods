{
 "cells": [
  {
   "cell_type": "code",
   "execution_count": 8,
   "metadata": {},
   "outputs": [],
   "source": [
    "import numpy as np\n",
    "import matplotlib.pyplot as plt\n",
    "'''\n",
    "x=np.array([2,5,-6,7,4,3,8,9,1,-2], dtype=float)\n",
    "y=np.array([-1,77,-297,249,33,9,389,573,-3,-21], dtype=float)\n",
    "'''\n",
    "def lagranz(x,y,t):\n",
    "    z=0\n",
    "    for j in range(len(y)):\n",
    "        p1=1; p2=1\n",
    "        for i in range(len(x)):\n",
    "            if i==j:\n",
    "                p1=p1*1; p2=p2*1   \n",
    "            else: \n",
    "                p1=p1*(t-x[i])\n",
    "                p2=p2*(x[j]-x[i])\n",
    "        z=z+y[j]*p1/p2\n",
    "    return z\n",
    "'''\n",
    "xnew=np.linspace(np.min(x),np.max(x),100)\n",
    "ynew=[lagranz(x,y,i) for i in xnew]\n",
    "plt.plot(x,y,'o',xnew,ynew)\n",
    "plt.grid(True)\n",
    "plt.show()\n",
    "''';"
   ]
  }
 ],
 "metadata": {
  "kernelspec": {
   "display_name": "Python 3",
   "language": "python",
   "name": "python3"
  },
  "language_info": {
   "codemirror_mode": {
    "name": "ipython",
    "version": 3
   },
   "file_extension": ".py",
   "mimetype": "text/x-python",
   "name": "python",
   "nbconvert_exporter": "python",
   "pygments_lexer": "ipython3",
   "version": "3.7.4"
  }
 },
 "nbformat": 4,
 "nbformat_minor": 2
}
