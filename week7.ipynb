{
 "cells": [
  {
   "cell_type": "markdown",
   "metadata": {},
   "source": [
    "# Initial value problem for ODEs"
   ]
  },
  {
   "cell_type": "markdown",
   "metadata": {},
   "source": [
    "# I. Euler's method for a first order ODE\n",
    "\n",
    "Consider a first order equation\n",
    "\n",
    "$$\n",
    "\\frac{d u}{d t} = \\lambda u\n",
    "$$\n",
    "\n",
    "with the initial condition $u(t=0) = u_0$.\n",
    "\n",
    "Here is a simple illustration of solving this equation with the explicit Euler method."
   ]
  },
  {
   "cell_type": "code",
   "execution_count": 1,
   "metadata": {},
   "outputs": [],
   "source": [
    "import numpy as np\n",
    "import matplotlib.pyplot as plt\n",
    "from sklearn.metrics import mean_absolute_error\n",
    "%matplotlib notebook"
   ]
  },
  {
   "cell_type": "code",
   "execution_count": 2,
   "metadata": {},
   "outputs": [],
   "source": [
    "def euler_solve(lam, u0, T, dt):\n",
    "    \"\"\"Solve $du/dt = \\lambda u$ on $0 < t < T$ with $u(t=0) = u0$ via an explicit Euler method.\"\"\"\n",
    "    num_steps = int(T/dt)\n",
    "    tt = np.arange(num_steps+1)*dt\n",
    "    y = np.empty(num_steps+1)\n",
    "    y[0] = u0\n",
    "    for k in range(num_steps):\n",
    "        y[k+1] = y[k] + dt*lam*y[k]\n",
    "    return tt, y"
   ]
  },
  {
   "cell_type": "code",
   "execution_count": 3,
   "metadata": {},
   "outputs": [
    {
     "data": {
      "image/png": "[encoded data removed]",
      "text/plain": [
       "<Figure size 432x288 with 1 Axes>"
      ]
     },
     "metadata": {
      "needs_background": "light"
     },
     "output_type": "display_data"
    }
   ],
   "source": [
    "lam = -0.5\n",
    "tt, y = euler_solve(lam, u0=1.0, T=5, dt=0.1)\n",
    "plt.plot(tt, y, 'o--', label='numeric solution')\n",
    "plt.plot(tt, np.exp(lam*tt), '-', lw=2, label='ground truth')\n",
    "plt.legend(loc='best')\n",
    "plt.grid(True)"
   ]
  },
  {
   "cell_type": "markdown",
   "metadata": {},
   "source": [
    "### Test I.1\n",
    "\n",
    "Test the function above for varying step size $\\tau$ (in the code it's `dt`), including $|\\lambda| \\tau > 1$? \n",
    "\n",
    "(10% of the grade)"
   ]
  },
  {
   "cell_type": "code",
   "execution_count": 4,
   "metadata": {},
   "outputs": [
    {
     "name": "stdout",
     "output_type": "stream",
     "text": [
      "t = 3.00000 error =  0.3615650800742149\n",
      "t = 2.90000 error =  0.3422851440468988\n",
      "t = 2.80000 error =  0.3232984819708032\n",
      "t = 2.70000 error =  0.3046201303229457\n",
      "t = 2.60000 error =  0.28626589651700624\n",
      "t = 2.50000 error =  0.18536326516136295\n",
      "t = 2.40000 error =  0.18397072173387152\n",
      "t = 2.30000 error =  0.18146520436728564\n",
      "t = 2.20000 error =  0.17789141402013778\n",
      "t = 2.10000 error =  0.17329805912137905\n",
      "t = 2.00000 error =  0.16773824146935165\n",
      "t = 1.90000 error =  0.16126988089237868\n",
      "t = 1.80000 error =  0.1539561826540618\n",
      "t = 1.70000 error =  0.145866152000487\n",
      "t = 1.60000 error =  0.12348585885032233\n",
      "t = 1.50000 error =  0.11819273436282714\n",
      "t = 1.40000 error =  0.11215967399649937\n",
      "t = 1.30000 error =  0.10536916034538546\n",
      "t = 1.20000 error =  0.09128453790344541\n",
      "t = 1.10000 error =  0.08560854221233076\n",
      "t = 1.00000 error =  0.07436842381550277\n",
      "t = 0.90000 error =  0.0689044162152857\n",
      "t = 0.80000 error =  0.05982528236939182\n",
      "t = 0.70000 error =  0.051778822841803934\n",
      "t = 0.60000 error =  0.04446398314899504\n",
      "t = 0.50000 error =  0.036431489791486624\n",
      "t = 0.40000 error =  0.029368594184516865\n",
      "t = 0.30000 error =  0.02192297307800043\n",
      "t = 0.20000 error =  0.014382643042126162\n",
      "t = 0.10000 error =  0.007159245952545699\n"
     ]
    }
   ],
   "source": [
    "t = np.arange(3, 0, -1e-1)\n",
    "for dt in t:\n",
    "    tt, y = euler_solve(lam, u0 = 1.0, T = 5, dt = dt)\n",
    "    print(\"t = %.5f\" %dt, \"error = \", mean_absolute_error(np.exp(lam*tt), y))"
   ]
  },
  {
   "cell_type": "markdown",
   "metadata": {},
   "source": [
    "### Test I.2\n",
    "\n",
    "Implement a function for solving the same equation, $du/dt = \\lambda u$ using the implicit Euler scheme. Compare the behavior of the implicit and explicit Euler schemes. Discuss.\n",
    "\n",
    "(10% of the grade)"
   ]
  },
  {
   "cell_type": "code",
   "execution_count": 5,
   "metadata": {},
   "outputs": [
    {
     "data": {
      "image/png": "[encoded data removed]",
      "text/plain": [
       "<Figure size 432x288 with 1 Axes>"
      ]
     },
     "metadata": {
      "needs_background": "light"
     },
     "output_type": "display_data"
    }
   ],
   "source": [
    "def implict_euler_scheme(lam, u0, T, dt):\n",
    "    steps = int(T / dt)\n",
    "    tt = np.arange(steps + 1) * dt\n",
    "    y = np.empty(steps + 1)\n",
    "    y[0] = u0\n",
    "    \n",
    "    for i in range(steps):\n",
    "        y[i + 1] = y[i] / (1 - dt*lam)\n",
    "        \n",
    "    return tt, y\n",
    "\n",
    "tt, y = implict_euler_scheme(lam, u0 = 1.0, T = 5, dt = 0.1)\n",
    "plt.plot(tt, y, '.')\n",
    "plt.plot(tt, np.exp(lam * tt), lw = 2)\n",
    "plt.grid(True)"
   ]
  },
  {
   "cell_type": "markdown",
   "metadata": {},
   "source": [
    "## II. Stiff systems."
   ]
  },
  {
   "cell_type": "markdown",
   "metadata": {},
   "source": [
    "Consider a system of two first order equations\n",
    "\n",
    "$$\n",
    "\\frac{d \\mathbf{u} }{d t} = A \\mathbf{u}\n",
    "$$\n",
    "\n",
    "where $\\mathbf{u}$ is a two-dimensional vector, and $A$ is a known constant 2$\\times$2 matrix.\n",
    "\n",
    "Implement a generalization of `euler_solve` routine for solving a system of linear first-order equations with time-independent matrix $A$ using the explicit Euler's method."
   ]
  },
  {
   "cell_type": "code",
   "execution_count": 6,
   "metadata": {},
   "outputs": [],
   "source": [
    "def system_euler_solve(A, u0, T, dt):\n",
    "    steps = int(T / dt)\n",
    "    tt = np.arange(steps + 1) * dt\n",
    "    y = np.zeros((steps + 1, u0.shape[0]))\n",
    "    y[0] = u0\n",
    "    for i in range(steps):\n",
    "        y[i + 1] = y[i] + (dt * A @ y[i])\n",
    "    return tt, y"
   ]
  },
  {
   "cell_type": "markdown",
   "metadata": {},
   "source": [
    "### Test II.1\n",
    "\n",
    "Take \n",
    "$$\n",
    "A = \\begin{bmatrix} -10 & 10 \\\\ 32 & -499 \\end{bmatrix}\n",
    "$$\n",
    "\n",
    "and the initial condition $\\mathbf{u} = (1, 0)^T$.\n",
    "\n",
    "Solve the system using a fixed step size $\\tau=0.01$. Is the explicit Euler's method stable at this value of the step size?\n",
    "\n",
    "Find eigenvalues of $A$ (use `np.linalg.eigvals`) and comment whether the system is stif.\n",
    "\n",
    "(20% of the grade)"
   ]
  },
  {
   "cell_type": "code",
   "execution_count": 7,
   "metadata": {},
   "outputs": [
    {
     "name": "stdout",
     "output_type": "stream",
     "text": [
      "[  -9.34647667 -499.65352333]\n"
     ]
    }
   ],
   "source": [
    "u0 = np.array([1, 0])\n",
    "T = 5\n",
    "dt = 1e-2\n",
    "A = np.array([[-10, 10], [32, -499]])\n",
    "tt, y = system_euler_solve(A, u0, T, dt)\n",
    "\n",
    "print(np.linalg.eigvals(A))"
   ]
  },
  {
   "cell_type": "markdown",
   "metadata": {},
   "source": [
    "### Test II.2\n",
    "\n",
    "Implement the $\\textit{implicit}$ Euler's scheme for a system of first-order equations with constant coefficients. Note that at each time step you need to solve a system of linear algebraic equations, use `np.linalg.solve` for that.\n",
    "\n",
    "Use this routine to solve the system from Test II.1 at the same step size $\\tau=0.01$. Compare solutions obtained by an explicit and an implicit Euler's methods.\n",
    "\n",
    "(20% of the grade)"
   ]
  },
  {
   "cell_type": "code",
   "execution_count": 8,
   "metadata": {},
   "outputs": [
    {
     "name": "stdout",
     "output_type": "stream",
     "text": [
      "[  -9.34647667 -499.65352333]\n"
     ]
    }
   ],
   "source": [
    "def system_implict_euler_scheme(A, u0, T, dt):\n",
    "    steps = int(T / dt)\n",
    "    tt = np.arange(steps + 1) * dt\n",
    "    y = np.zeros((steps + 1, u0.shape[0]))\n",
    "    y[0] = u0\n",
    "    \n",
    "    for i in range(steps):\n",
    "        y[i + 1] = np.linalg.solve((np.eye(A.shape[0]) - dt * A), y[i])\n",
    "        \n",
    "    return tt, y\n",
    "\n",
    "u0 = np.array([1,0])\n",
    "T = 5\n",
    "dt = 1e-2\n",
    "A = np.array([[-10, 10], [32, -499]])\n",
    "tt, y = system_implict_euler_scheme(A, u0, T, dt)\n",
    "\n",
    "print(np.linalg.eigvals(A))"
   ]
  },
  {
   "cell_type": "markdown",
   "metadata": {
    "collapsed": true
   },
   "source": [
    "# III. Second order ODEs.\n",
    "\n",
    "Consider a second order ODE, which describes a oscillating pendulum\n",
    "\n",
    "$$\n",
    "\\frac{d^2 u}{dt^2} + \\omega^2 u = 0\n",
    "$$\n",
    "\n",
    "Convert this second order ODE into a system of two first order ODEs.\n",
    "\n",
    "### Test III.1 \n",
    "\n",
    "Solve this system of equations using the explicit Euler's method over a time interval which includes at least several periods. We know that the equation of motion conserves energy, so that\n",
    "\n",
    "$$\n",
    "E = \\frac{u'^2}{2} + \\frac{\\omega^2 u^2}{2}\n",
    "$$\n",
    "\n",
    "should remain constant. Plot the dependence of $E$ on time for your numeric solution. Use several values of the time step. Does your discretized scheme conserve energy?\n",
    "\n",
    "(20% of the grade)"
   ]
  },
  {
   "cell_type": "code",
   "execution_count": 9,
   "metadata": {},
   "outputs": [
    {
     "data": {
      "text/plain": [
       "[<matplotlib.lines.Line2D at 0x20b5e873648>]"
      ]
     },
     "execution_count": 9,
     "metadata": {},
     "output_type": "execute_result"
    },
    {
     "data": {
      "image/png": "[encoded data removed]",
      "text/plain": [
       "<Figure size 432x288 with 1 Axes>"
      ]
     },
     "metadata": {
      "needs_background": "light"
     },
     "output_type": "display_data"
    }
   ],
   "source": [
    "def oscilation_solve(w, u0, T, dt):\n",
    "    A = np.array([[0, 1], [w*w, 0]])\n",
    "    return system_euler_solve(A, u0, T, dt)\n",
    "\n",
    "E = lambda u, du, w: du**2 / 2 + w**2 * u**2 / 2\n",
    "tt,y = oscilation_solve(1, np.array([1,1]), 10, 1e-1)\n",
    "tty = E(y[:,0], y[:, 1], 1)\n",
    "\n",
    "plt.plot(tt, tty)"
   ]
  },
  {
   "cell_type": "markdown",
   "metadata": {},
   "source": [
    "### Test III.2\n",
    "\n",
    "Implement the 2nd order Runge-Kutta scheme. Use it to solve the same equation with same time steps. Compare solutions produced by the RK method and the Euler's method at the same values of the time step. Check conservation of energy. Discuss.\n",
    "\n",
    "(20% of the grade)"
   ]
  },
  {
   "cell_type": "code",
   "execution_count": null,
   "metadata": {},
   "outputs": [],
   "source": []
  }
 ],
 "metadata": {
  "kernelspec": {
   "display_name": "Python 3",
   "language": "python",
   "name": "python3"
  },
  "language_info": {
   "codemirror_mode": {
    "name": "ipython",
    "version": 3
   },
   "file_extension": ".py",
   "mimetype": "text/x-python",
   "name": "python",
   "nbconvert_exporter": "python",
   "pygments_lexer": "ipython3",
   "version": "3.7.4"
  }
 },
 "nbformat": 4,
 "nbformat_minor": 2
}
